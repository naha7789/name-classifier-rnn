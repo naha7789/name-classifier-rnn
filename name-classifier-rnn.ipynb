{
 "cells": [
  {
   "cell_type": "code",
   "execution_count": 1,
   "metadata": {
    "collapsed": true
   },
   "outputs": [],
   "source": [
    "from io import open\n",
    "import glob\n",
    "import unicodedata\n",
    "import string"
   ]
  },
  {
   "cell_type": "code",
   "execution_count": 2,
   "metadata": {
    "collapsed": true
   },
   "outputs": [],
   "source": [
    "def find_files(path):\n",
    "    return glob.glob(path)\n",
    "\n",
    "all_letters = string.ascii_letters + \" .,;'\"\n",
    "n_letters = len(all_letters)"
   ]
  },
  {
   "cell_type": "code",
   "execution_count": 3,
   "metadata": {},
   "outputs": [
    {
     "name": "stdout",
     "output_type": "stream",
     "text": [
      "['data/names/Italian.txt', 'data/names/Irish.txt', 'data/names/Indian.txt', 'data/names/Vietnamese.txt', 'data/names/Scottish.txt', 'data/names/Chinese.txt', 'data/names/Japanese.txt', 'data/names/Greek.txt', 'data/names/Russian.txt', 'data/names/English.txt', 'data/names/Dutch.txt', 'data/names/Polish.txt', 'data/names/German.txt', 'data/names/French.txt', 'data/names/Portuguese.txt', 'data/names/Czech.txt', 'data/names/Korean.txt', 'data/names/Spanish.txt', 'data/names/Arabic.txt']\n"
     ]
    }
   ],
   "source": [
    "print(find_files('data/names/*.txt'))"
   ]
  },
  {
   "cell_type": "code",
   "execution_count": 4,
   "metadata": {
    "collapsed": true
   },
   "outputs": [],
   "source": [
    "def unicode_to_ascii(s):\n",
    "    return ''.join(\n",
    "        c for c in unicodedata.normalize('NFD', s)\n",
    "        if unicodedata.category(c)!='Mn' and c in all_letters)"
   ]
  },
  {
   "cell_type": "code",
   "execution_count": 5,
   "metadata": {},
   "outputs": [
    {
     "name": "stdout",
     "output_type": "stream",
     "text": [
      "['Italian', 'Irish', 'Indian', 'Vietnamese', 'Scottish', 'Chinese', 'Japanese', 'Greek', 'Russian', 'English', 'Dutch', 'Polish', 'German', 'French', 'Portuguese', 'Czech', 'Korean', 'Spanish', 'Arabic']\n"
     ]
    }
   ],
   "source": [
    "category_lines = {}\n",
    "all_categories = []\n",
    "def read_lines(filename):\n",
    "    lines = open(filename, encoding='utf-8').read().strip().split('\\n')\n",
    "    return [unicode_to_ascii(line) for line in lines]\n",
    "\n",
    "for filename in find_files('data/names/*.txt'):\n",
    "    category = filename.split('/')[-1].split('.')[0]\n",
    "    all_categories.append(category);\n",
    "    lines = read_lines(filename)\n",
    "    category_lines[category] = lines\n",
    "    \n",
    "print(all_categories)    \n",
    "n_categories = len(all_categories)"
   ]
  },
  {
   "cell_type": "code",
   "execution_count": 6,
   "metadata": {
    "collapsed": true
   },
   "outputs": [],
   "source": [
    "import torch"
   ]
  },
  {
   "cell_type": "code",
   "execution_count": 7,
   "metadata": {
    "collapsed": true
   },
   "outputs": [],
   "source": [
    "def letter_to_index(letter):\n",
    "    return all_letters.find(letter)\n",
    "\n",
    "def letter_to_tensor(letter):\n",
    "    tensor = torch.zeros(1, n_letters)\n",
    "    tensor[0][letter_to_index(letter)] = 1\n",
    "    return tensor\n",
    "    \n",
    "def line_to_tensor(line):\n",
    "    tensor = torch.zeros(len(line), 1, n_letters) # extra 1 dimension is for batch size, which is equal to 1 in our case\n",
    "    for li, letter in enumerate(line):\n",
    "        tensor[li][0][letter_to_index(letter)] = 1\n",
    "        return tensor"
   ]
  },
  {
   "cell_type": "code",
   "execution_count": 8,
   "metadata": {},
   "outputs": [
    {
     "name": "stdout",
     "output_type": "stream",
     "text": [
      "\n",
      "\n",
      "Columns 0 to 12 \n",
      "    0     0     0     0     0     0     0     0     0     0     0     0     0\n",
      "\n",
      "Columns 13 to 25 \n",
      "    0     0     0     0     0     1     0     0     0     0     0     0     0\n",
      "\n",
      "Columns 26 to 38 \n",
      "    0     0     0     0     0     0     0     0     0     0     0     0     0\n",
      "\n",
      "Columns 39 to 51 \n",
      "    0     0     0     0     0     0     0     0     0     0     0     0     0\n",
      "\n",
      "Columns 52 to 56 \n",
      "    0     0     0     0     0\n",
      "[torch.FloatTensor of size 1x57]\n",
      "\n",
      "torch.Size([7, 1, 57])\n"
     ]
    }
   ],
   "source": [
    "print(letter_to_tensor('s'))\n",
    "print(line_to_tensor('Sarthak').size())"
   ]
  },
  {
   "cell_type": "code",
   "execution_count": 9,
   "metadata": {
    "collapsed": true
   },
   "outputs": [],
   "source": [
    "import torch.nn as nn\n",
    "from torch.autograd import Variable"
   ]
  },
  {
   "cell_type": "code",
   "execution_count": 10,
   "metadata": {
    "collapsed": true
   },
   "outputs": [],
   "source": [
    "class RNN(nn.Module):\n",
    "    def __init__(self, input_size, hidden_size, output_size):\n",
    "        super(RNN, self).__init__()\n",
    "        self.hidden_size = hidden_size\n",
    "        self.i_h = nn.Linear(input_size+hidden_size, hidden_size)\n",
    "        self.m = nn.Tanh()\n",
    "        self.i_o = nn.Linear(input_size+hidden_size, output_size)\n",
    "        self.softmax = nn.LogSoftmax()\n",
    "        \n",
    "    def forward(self, input, hidden):\n",
    "        combined = torch.cat((input, hidden), 1)\n",
    "        hidden = self.m(self.i_h(combined))\n",
    "        output = self.i_o(combined)\n",
    "        output = self.softmax(output)\n",
    "        return output, hidden\n",
    "    \n",
    "    def init_hidden(self):\n",
    "        return Variable(torch.zeros(1, self.hidden_size))\n",
    "    "
   ]
  },
  {
   "cell_type": "code",
   "execution_count": 11,
   "metadata": {},
   "outputs": [],
   "source": [
    "n_hidden = 128\n",
    "rnn = RNN(n_letters, n_hidden, n_categories)"
   ]
  },
  {
   "cell_type": "code",
   "execution_count": 12,
   "metadata": {
    "collapsed": true
   },
   "outputs": [],
   "source": [
    "def category_from_output(output):\n",
    "    top_n, top_i = output.data.topk(1)\n",
    "    category_i = top_i[0][0]\n",
    "    return all_categories[category_i], category_i"
   ]
  },
  {
   "cell_type": "code",
   "execution_count": 13,
   "metadata": {},
   "outputs": [
    {
     "name": "stdout",
     "output_type": "stream",
     "text": [
      "category = Korean / line = Ryom\n",
      "category = Polish / line = Zientek\n",
      "category = Spanish / line = Fonseca\n",
      "category = Vietnamese / line = Lieu\n",
      "category = Polish / line = Wojda\n",
      "category = Vietnamese / line = Ta\n",
      "category = Dutch / line = Rossum\n",
      "category = Italian / line = Conti\n",
      "category = Korean / line = Chin\n",
      "category = Russian / line = Zhovnerik\n"
     ]
    }
   ],
   "source": [
    "import random\n",
    "\n",
    "def random_choice(l):\n",
    "    return l[random.randint(0, len(l)-1)]\n",
    "\n",
    "def random_training_example():\n",
    "    category = random_choice(all_categories)\n",
    "    line = random_choice(category_lines[category])\n",
    "    category_tensor = Variable(torch.LongTensor([all_categories.index(category)]))\n",
    "    line_tensor = Variable(line_to_tensor(line))\n",
    "    return category, line, category_tensor, line_tensor\n",
    "\n",
    "for i in range(10):\n",
    "    category, line, category_tensor, line_tensor = random_training_example()\n",
    "    print('category =', category, '/ line =', line)\n"
   ]
  },
  {
   "cell_type": "code",
   "execution_count": 14,
   "metadata": {
    "collapsed": true
   },
   "outputs": [],
   "source": [
    "criterion = nn.NLLLoss()\n",
    "lr = 0.005"
   ]
  },
  {
   "cell_type": "code",
   "execution_count": 15,
   "metadata": {
    "collapsed": true
   },
   "outputs": [],
   "source": [
    "def train(category_tensor, line_tensor):\n",
    "    hidden = rnn.init_hidden()\n",
    "    rnn.zero_grad()\n",
    "    for i in range(line_tensor.size()[0]):\n",
    "        output, hidden = rnn(line_tensor[i], hidden)\n",
    "        \n",
    "    loss = criterion(output, category_tensor)\n",
    "    loss.backward()\n",
    "    for p in rnn.parameters():\n",
    "        p.data.add_(-lr, p.grad.data)\n",
    "        \n",
    "    return output, loss.data[0]"
   ]
  },
  {
   "cell_type": "code",
   "execution_count": 16,
   "metadata": {
    "scrolled": false
   },
   "outputs": [
    {
     "name": "stdout",
     "output_type": "stream",
     "text": [
      "5000 1% (0m 17s) 0.5875\n",
      "10000 2% (0m 33s) 0.5317\n",
      "15000 3% (0m 49s) 0.5256\n",
      "20000 4% (1m 5s) 0.5227\n",
      "25000 5% (1m 21s) 0.5290\n",
      "30000 6% (1m 37s) 0.5253\n",
      "35000 7% (1m 54s) 0.5176\n",
      "40000 8% (2m 9s) 0.5194\n",
      "45000 9% (2m 26s) 0.5146\n",
      "50000 10% (2m 42s) 0.5142\n",
      "55000 11% (2m 59s) 0.5003\n",
      "60000 12% (3m 15s) 0.5011\n",
      "65000 13% (3m 32s) 0.5032\n",
      "70000 14% (3m 48s) 0.5014\n",
      "75000 15% (4m 5s) 0.4918\n",
      "80000 16% (4m 21s) 0.4822\n",
      "85000 17% (4m 38s) 0.4875\n",
      "90000 18% (4m 55s) 0.4816\n",
      "95000 19% (5m 11s) 0.4858\n",
      "100000 20% (5m 28s) 0.4846\n",
      "105000 21% (5m 45s) 0.4792\n",
      "110000 22% (6m 1s) 0.4697\n",
      "115000 23% (6m 18s) 0.4638\n",
      "120000 24% (6m 34s) 0.4605\n",
      "125000 25% (6m 50s) 0.4670\n",
      "130000 26% (7m 7s) 0.4719\n",
      "135000 27% (7m 23s) 0.4651\n",
      "140000 28% (7m 40s) 0.4644\n",
      "145000 28% (7m 56s) 0.4605\n",
      "150000 30% (8m 13s) 0.4577\n",
      "155000 31% (8m 29s) 0.4550\n",
      "160000 32% (8m 45s) 0.4595\n",
      "165000 33% (9m 1s) 0.4579\n",
      "170000 34% (9m 18s) 0.4508\n",
      "175000 35% (9m 34s) 0.4490\n",
      "180000 36% (9m 50s) 0.4490\n",
      "185000 37% (10m 6s) 0.4474\n",
      "190000 38% (10m 23s) 0.4431\n",
      "195000 39% (10m 40s) 0.4450\n",
      "200000 40% (10m 57s) 0.4428\n",
      "205000 41% (11m 14s) 0.4421\n",
      "210000 42% (11m 31s) 0.4522\n",
      "215000 43% (11m 48s) 0.4344\n",
      "220000 44% (12m 5s) 0.4294\n",
      "225000 45% (12m 22s) 0.4493\n",
      "230000 46% (12m 39s) 0.4360\n",
      "235000 47% (12m 54s) 0.4217\n",
      "240000 48% (13m 11s) 0.4188\n",
      "245000 49% (13m 27s) 0.4372\n",
      "250000 50% (13m 44s) 0.4301\n",
      "255000 51% (14m 1s) 0.4367\n",
      "260000 52% (14m 18s) 0.4293\n",
      "265000 53% (14m 35s) 0.4424\n",
      "270000 54% (14m 53s) 0.4328\n",
      "275000 55% (15m 10s) 0.4414\n",
      "280000 56% (15m 27s) 0.4375\n",
      "285000 56% (15m 43s) 0.4394\n",
      "290000 57% (15m 59s) 0.4299\n",
      "295000 59% (16m 16s) 0.4258\n",
      "300000 60% (16m 33s) 0.4298\n",
      "305000 61% (16m 49s) 0.4371\n",
      "310000 62% (17m 6s) 0.4345\n",
      "315000 63% (17m 22s) 0.4303\n",
      "320000 64% (17m 39s) 0.4298\n",
      "325000 65% (17m 55s) 0.4363\n",
      "330000 66% (18m 12s) 0.4271\n",
      "335000 67% (18m 28s) 0.4263\n",
      "340000 68% (18m 45s) 0.4318\n",
      "345000 69% (19m 1s) 0.4287\n",
      "350000 70% (19m 17s) 0.4223\n",
      "355000 71% (19m 34s) 0.4173\n",
      "360000 72% (19m 50s) 0.4300\n",
      "365000 73% (20m 8s) 0.4370\n",
      "370000 74% (20m 25s) 0.4365\n",
      "375000 75% (20m 41s) 0.4190\n",
      "380000 76% (20m 58s) 0.4173\n",
      "385000 77% (21m 14s) 0.4292\n",
      "390000 78% (21m 32s) 0.4374\n",
      "395000 79% (21m 49s) 0.4368\n",
      "400000 80% (22m 6s) 0.4293\n",
      "405000 81% (22m 22s) 0.4330\n",
      "410000 82% (22m 38s) 0.4231\n",
      "415000 83% (22m 54s) 0.4297\n",
      "420000 84% (23m 10s) 0.4177\n",
      "425000 85% (23m 28s) 0.4208\n",
      "430000 86% (23m 44s) 0.4288\n",
      "435000 87% (24m 0s) 0.4279\n",
      "440000 88% (24m 17s) 0.4170\n",
      "445000 89% (24m 33s) 0.4425\n",
      "450000 90% (24m 49s) 0.4271\n",
      "455000 91% (25m 5s) 0.4279\n",
      "460000 92% (25m 21s) 0.4202\n",
      "465000 93% (25m 38s) 0.4201\n",
      "470000 94% (25m 56s) 0.4140\n",
      "475000 95% (26m 17s) 0.4117\n",
      "480000 96% (26m 38s) 0.4213\n",
      "485000 97% (26m 57s) 0.4201\n",
      "490000 98% (27m 14s) 0.4273\n",
      "495000 99% (27m 32s) 0.4039\n",
      "500000 100% (27m 48s) 0.4282\n"
     ]
    }
   ],
   "source": [
    "import math\n",
    "import time\n",
    "\n",
    "n_iters = 500000\n",
    "print_every = 5000\n",
    "plot_every = 1000\n",
    "\n",
    "current_loss = 0\n",
    "all_losses = []\n",
    "\n",
    "def time_since(since):\n",
    "    now = time.time()\n",
    "    s = now-since\n",
    "    m = math.floor(s/60)\n",
    "    s -= m*60\n",
    "    return '%dm %ds' % (m,s)\n",
    "\n",
    "start = time.time()\n",
    "for iter in range(1, n_iters+1):\n",
    "    category, line, category_tensor, line_tensor = random_training_example()\n",
    "    output, loss = train(category_tensor, line_tensor)\n",
    "    current_loss += loss\n",
    "    \n",
    "    if iter%print_every == 0:\n",
    "        guess, guess_i = category_from_output(output)\n",
    "        correct = 'OK' if guess==category else 'X (%s)'%category\n",
    "        print('%d %d%% (%s) %.4f' % (iter, iter / n_iters * 100, time_since(start), current_loss/print_every))\n",
    "        \n",
    "    if iter % plot_every == 0:\n",
    "        all_losses.append(current_loss/plot_every)\n",
    "        current_loss = 0"
   ]
  },
  {
   "cell_type": "code",
   "execution_count": 17,
   "metadata": {},
   "outputs": [
    {
     "data": {
      "image/png": "[encoded data removed]",
      "text/plain": [
       "<matplotlib.figure.Figure at 0x7fc640ad8d30>"
      ]
     },
     "metadata": {},
     "output_type": "display_data"
    }
   ],
   "source": [
    "import matplotlib.pyplot as plt\n",
    "import matplotlib.ticker as ticker\n",
    "\n",
    "plt.plot(all_losses)\n",
    "plt.show()"
   ]
  },
  {
   "cell_type": "code",
   "execution_count": 19,
   "metadata": {},
   "outputs": [
    {
     "data": {
      "image/png": "[encoded data removed]",
      "text/plain": [
       "<matplotlib.figure.Figure at 0x7fc635c6d518>"
      ]
     },
     "metadata": {},
     "output_type": "display_data"
    }
   ],
   "source": [
    "confusion = torch.zeros(n_categories, n_categories)\n",
    "n_confusion = 10000\n",
    "\n",
    "def evaluate(line_tensor):\n",
    "    hidden = rnn.init_hidden()\n",
    "    for i in range(line_tensor.size()[0]):\n",
    "        output, hidden = rnn(line_tensor[i], hidden)\n",
    "        \n",
    "    return output\n",
    "\n",
    "for i in range(n_confusion):\n",
    "    category, line, category_tensor, line_tensor = random_training_example()\n",
    "    output = evaluate(line_tensor)\n",
    "    guess, guess_i = category_from_output(output)\n",
    "    category_i = all_categories.index(category)\n",
    "    confusion[category_i][guess_i] += 1\n",
    "    \n",
    "for i in range(n_categories):\n",
    "    confusion[i] = confusion[i]/confusion[i].sum()\n",
    "    \n",
    "fig = plt.figure()\n",
    "ax = fig.add_subplot(111)\n",
    "cax = ax.matshow(confusion.numpy())\n",
    "fig.colorbar(cax)\n",
    "\n",
    "ax.set_xticklabels([''] + all_categories, rotation=90)\n",
    "ax.set_yticklabels([''] + all_categories)\n",
    "\n",
    "ax.xaxis.set_major_locator(ticker.MultipleLocator(1))\n",
    "ax.yaxis.set_major_locator(ticker.MultipleLocator(1))\n",
    "\n",
    "plt.show()"
   ]
  },
  {
   "cell_type": "code",
   "execution_count": null,
   "metadata": {
    "collapsed": true
   },
   "outputs": [],
   "source": []
  }
 ],
 "metadata": {
  "kernelspec": {
   "display_name": "pytorch",
   "language": "python",
   "name": "pytorch"
  },
  "language_info": {
   "codemirror_mode": {
    "name": "ipython",
    "version": 3
   },
   "file_extension": ".py",
   "mimetype": "text/x-python",
   "name": "python",
   "nbconvert_exporter": "python",
   "pygments_lexer": "ipython3",
   "version": "3.5.3"
  }
 },
 "nbformat": 4,
 "nbformat_minor": 2
}
